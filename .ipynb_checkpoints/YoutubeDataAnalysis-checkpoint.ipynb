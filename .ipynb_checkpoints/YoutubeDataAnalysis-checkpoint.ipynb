{
 "cells": [
  {
   "cell_type": "code",
   "execution_count": 1,
   "id": "762a6cb5",
   "metadata": {},
   "outputs": [],
   "source": [
    "#This dataset is a daily record of the top trending YouTube videos.\n",
    "#https://www.kaggle.com/harshithgupta/youtubes-channels-dataset\n",
    "#https://developers.google.com/youtube/v3 "
   ]
  },
  {
   "cell_type": "code",
   "execution_count": 2,
   "id": "475a9328",
   "metadata": {},
   "outputs": [],
   "source": [
    "#maximizing view count"
   ]
  },
  {
   "cell_type": "markdown",
   "id": "a7dd2f0e",
   "metadata": {},
   "source": [
    "# Data Wrangling"
   ]
  },
  {
   "cell_type": "code",
   "execution_count": 3,
   "id": "fc66c875",
   "metadata": {},
   "outputs": [],
   "source": [
    "import pandas as pd\n",
    "import numpy as np\n",
    "import matplotlib.pyplot as plt\n",
    "import seaborn as sns\n",
    "import json\n",
    "from datetime import datetime as dt\n",
    "from sklearn.preprocessing import scale\n",
    "from scipy import stats"
   ]
  },
  {
   "cell_type": "code",
   "execution_count": 4,
   "id": "aeabc46e",
   "metadata": {},
   "outputs": [],
   "source": [
    "file = 'YouTubeDataset_withChannelElapsed.json'\n",
    "\n",
    "with open(file) as train_file:\n",
    "    data = json.load(train_file)"
   ]
  },
  {
   "cell_type": "code",
   "execution_count": 5,
   "id": "287d6233",
   "metadata": {},
   "outputs": [],
   "source": [
    "df = pd.DataFrame.from_dict(pd.json_normalize(data), orient='columns')"
   ]
  },
  {
   "cell_type": "code",
   "execution_count": 6,
   "id": "5c78c6c6",
   "metadata": {},
   "outputs": [
    {
     "data": {
      "text/html": [
       "<div>\n",
       "<style scoped>\n",
       "    .dataframe tbody tr th:only-of-type {\n",
       "        vertical-align: middle;\n",
       "    }\n",
       "\n",
       "    .dataframe tbody tr th {\n",
       "        vertical-align: top;\n",
       "    }\n",
       "\n",
       "    .dataframe thead th {\n",
       "        text-align: right;\n",
       "    }\n",
       "</style>\n",
       "<table border=\"1\" class=\"dataframe\">\n",
       "  <thead>\n",
       "    <tr style=\"text-align: right;\">\n",
       "      <th></th>\n",
       "      <th>totalviews/channelelapsedtime</th>\n",
       "      <th>channelId</th>\n",
       "      <th>videoCategoryId</th>\n",
       "      <th>channelViewCount</th>\n",
       "      <th>likes/subscriber</th>\n",
       "      <th>views/subscribers</th>\n",
       "      <th>videoCount</th>\n",
       "      <th>subscriberCount</th>\n",
       "      <th>videoId</th>\n",
       "      <th>dislikes/views</th>\n",
       "      <th>...</th>\n",
       "      <th>comments/views</th>\n",
       "      <th>totvideos/videocount</th>\n",
       "      <th>elapsedtime</th>\n",
       "      <th>videoLikeCount</th>\n",
       "      <th>videoDislikeCount</th>\n",
       "      <th>dislikes/subscriber</th>\n",
       "      <th>totviews/totsubs</th>\n",
       "      <th>views/elapsedtime</th>\n",
       "      <th>videoPublished</th>\n",
       "      <th>VideoCommentCount</th>\n",
       "    </tr>\n",
       "  </thead>\n",
       "  <tbody>\n",
       "    <tr>\n",
       "      <th>0</th>\n",
       "      <td>0.16519925596076884</td>\n",
       "      <td>UCdzU3DSGzyWzN2118yd9X9g</td>\n",
       "      <td>22</td>\n",
       "      <td>14654</td>\n",
       "      <td>0.5555555555555556</td>\n",
       "      <td>95.11111111111111</td>\n",
       "      <td>30</td>\n",
       "      <td>18</td>\n",
       "      <td>--DwgB78t-c</td>\n",
       "      <td>0.0005841121495327102</td>\n",
       "      <td>...</td>\n",
       "      <td>0.0</td>\n",
       "      <td>488.46666666666664</td>\n",
       "      <td>50040</td>\n",
       "      <td>10</td>\n",
       "      <td>1</td>\n",
       "      <td>0.05555555555555555</td>\n",
       "      <td>814.1111111111111</td>\n",
       "      <td>0.03421262989608313</td>\n",
       "      <td>2012-01-19T18:38:28.000Z</td>\n",
       "      <td>0</td>\n",
       "    </tr>\n",
       "    <tr>\n",
       "      <th>1</th>\n",
       "      <td>1.1338200815767217</td>\n",
       "      <td>UC0UnhAG47DRyVZGVcbhAXhQ</td>\n",
       "      <td>10</td>\n",
       "      <td>105909</td>\n",
       "      <td>0.2391304347826087</td>\n",
       "      <td>59.32608695652174</td>\n",
       "      <td>51</td>\n",
       "      <td>184</td>\n",
       "      <td>--NZRkXBV7k</td>\n",
       "      <td>0.00027482594356907294</td>\n",
       "      <td>...</td>\n",
       "      <td>0.00018321729571271528</td>\n",
       "      <td>2076.6470588235293</td>\n",
       "      <td>22080</td>\n",
       "      <td>44</td>\n",
       "      <td>3</td>\n",
       "      <td>0.016304347826086956</td>\n",
       "      <td>575.5923913043479</td>\n",
       "      <td>0.4943840579710145</td>\n",
       "      <td>2015-03-30T04:04:40.000Z</td>\n",
       "      <td>2</td>\n",
       "    </tr>\n",
       "    <tr>\n",
       "      <th>2</th>\n",
       "      <td>0.6681201550387597</td>\n",
       "      <td>UCXjtAvK5P3wXBGh0vbGylzg</td>\n",
       "      <td>27</td>\n",
       "      <td>48265</td>\n",
       "      <td>0.023668639053254437</td>\n",
       "      <td>10.289940828402367</td>\n",
       "      <td>72</td>\n",
       "      <td>338</td>\n",
       "      <td>--hoQ2sGG4M</td>\n",
       "      <td>0.0002875215641173088</td>\n",
       "      <td>...</td>\n",
       "      <td>0.0005750431282346176</td>\n",
       "      <td>670.3472222222222</td>\n",
       "      <td>71544</td>\n",
       "      <td>8</td>\n",
       "      <td>1</td>\n",
       "      <td>0.0029585798816568047</td>\n",
       "      <td>142.7958579881657</td>\n",
       "      <td>0.04861344067986134</td>\n",
       "      <td>2009-08-07T06:51:10.000Z</td>\n",
       "      <td>2</td>\n",
       "    </tr>\n",
       "    <tr>\n",
       "      <th>3</th>\n",
       "      <td>25.65350494473531</td>\n",
       "      <td>UCeKHMeUlcLNPLCLUfZUQI2w</td>\n",
       "      <td>26</td>\n",
       "      <td>2116722</td>\n",
       "      <td>0.007301256178858102</td>\n",
       "      <td>0.8841775883179901</td>\n",
       "      <td>172</td>\n",
       "      <td>22051</td>\n",
       "      <td>--sBoaqBlzA</td>\n",
       "      <td>0.00030773965225419295</td>\n",
       "      <td>...</td>\n",
       "      <td>0.0005128994204236549</td>\n",
       "      <td>12306.523255813954</td>\n",
       "      <td>54096</td>\n",
       "      <td>161</td>\n",
       "      <td>6</td>\n",
       "      <td>0.00027209650355992926</td>\n",
       "      <td>95.99210920139676</td>\n",
       "      <td>0.3604148181011535</td>\n",
       "      <td>2011-08-04T01:07:38.000Z</td>\n",
       "      <td>10</td>\n",
       "    </tr>\n",
       "    <tr>\n",
       "      <th>4</th>\n",
       "      <td>52.773777521761396</td>\n",
       "      <td>UCNWPDyaWf2eAHnofFLSnEMg</td>\n",
       "      <td>20</td>\n",
       "      <td>1649075</td>\n",
       "      <td>0.004545454545454545</td>\n",
       "      <td>10.004545454545454</td>\n",
       "      <td>2777</td>\n",
       "      <td>220</td>\n",
       "      <td>--7h1S4neDM</td>\n",
       "      <td>0.0</td>\n",
       "      <td>...</td>\n",
       "      <td>0.0</td>\n",
       "      <td>593.8332733165287</td>\n",
       "      <td>30120</td>\n",
       "      <td>1</td>\n",
       "      <td>0</td>\n",
       "      <td>0.0</td>\n",
       "      <td>7495.795454545455</td>\n",
       "      <td>0.07307436918990703</td>\n",
       "      <td>2014-04-29T15:44:44.000Z</td>\n",
       "      <td>0</td>\n",
       "    </tr>\n",
       "  </tbody>\n",
       "</table>\n",
       "<p>5 rows × 26 columns</p>\n",
       "</div>"
      ],
      "text/plain": [
       "  totalviews/channelelapsedtime                 channelId videoCategoryId  \\\n",
       "0           0.16519925596076884  UCdzU3DSGzyWzN2118yd9X9g              22   \n",
       "1            1.1338200815767217  UC0UnhAG47DRyVZGVcbhAXhQ              10   \n",
       "2            0.6681201550387597  UCXjtAvK5P3wXBGh0vbGylzg              27   \n",
       "3             25.65350494473531  UCeKHMeUlcLNPLCLUfZUQI2w              26   \n",
       "4            52.773777521761396  UCNWPDyaWf2eAHnofFLSnEMg              20   \n",
       "\n",
       "  channelViewCount      likes/subscriber   views/subscribers videoCount  \\\n",
       "0            14654    0.5555555555555556   95.11111111111111         30   \n",
       "1           105909    0.2391304347826087   59.32608695652174         51   \n",
       "2            48265  0.023668639053254437  10.289940828402367         72   \n",
       "3          2116722  0.007301256178858102  0.8841775883179901        172   \n",
       "4          1649075  0.004545454545454545  10.004545454545454       2777   \n",
       "\n",
       "  subscriberCount      videoId          dislikes/views  ...  \\\n",
       "0              18  --DwgB78t-c   0.0005841121495327102  ...   \n",
       "1             184  --NZRkXBV7k  0.00027482594356907294  ...   \n",
       "2             338  --hoQ2sGG4M   0.0002875215641173088  ...   \n",
       "3           22051  --sBoaqBlzA  0.00030773965225419295  ...   \n",
       "4             220  --7h1S4neDM                     0.0  ...   \n",
       "\n",
       "           comments/views totvideos/videocount elapsedtime videoLikeCount  \\\n",
       "0                     0.0   488.46666666666664       50040             10   \n",
       "1  0.00018321729571271528   2076.6470588235293       22080             44   \n",
       "2   0.0005750431282346176    670.3472222222222       71544              8   \n",
       "3   0.0005128994204236549   12306.523255813954       54096            161   \n",
       "4                     0.0    593.8332733165287       30120              1   \n",
       "\n",
       "  videoDislikeCount     dislikes/subscriber   totviews/totsubs  \\\n",
       "0                 1     0.05555555555555555  814.1111111111111   \n",
       "1                 3    0.016304347826086956  575.5923913043479   \n",
       "2                 1   0.0029585798816568047  142.7958579881657   \n",
       "3                 6  0.00027209650355992926  95.99210920139676   \n",
       "4                 0                     0.0  7495.795454545455   \n",
       "\n",
       "     views/elapsedtime            videoPublished VideoCommentCount  \n",
       "0  0.03421262989608313  2012-01-19T18:38:28.000Z                 0  \n",
       "1   0.4943840579710145  2015-03-30T04:04:40.000Z                 2  \n",
       "2  0.04861344067986134  2009-08-07T06:51:10.000Z                 2  \n",
       "3   0.3604148181011535  2011-08-04T01:07:38.000Z                10  \n",
       "4  0.07307436918990703  2014-04-29T15:44:44.000Z                 0  \n",
       "\n",
       "[5 rows x 26 columns]"
      ]
     },
     "execution_count": 6,
     "metadata": {},
     "output_type": "execute_result"
    }
   ],
   "source": [
    "df.head()"
   ]
  },
  {
   "cell_type": "code",
   "execution_count": 7,
   "id": "3a42eb5d",
   "metadata": {},
   "outputs": [
    {
     "name": "stdout",
     "output_type": "stream",
     "text": [
      "<class 'pandas.core.frame.DataFrame'>\n",
      "RangeIndex: 575610 entries, 0 to 575609\n",
      "Data columns (total 26 columns):\n",
      " #   Column                         Non-Null Count   Dtype \n",
      "---  ------                         --------------   ----- \n",
      " 0   totalviews/channelelapsedtime  575610 non-null  object\n",
      " 1   channelId                      575610 non-null  object\n",
      " 2   videoCategoryId                575610 non-null  object\n",
      " 3   channelViewCount               575610 non-null  object\n",
      " 4   likes/subscriber               575610 non-null  object\n",
      " 5   views/subscribers              575610 non-null  object\n",
      " 6   videoCount                     575610 non-null  object\n",
      " 7   subscriberCount                575610 non-null  object\n",
      " 8   videoId                        575610 non-null  object\n",
      " 9   dislikes/views                 575610 non-null  object\n",
      " 10  channelelapsedtime             575610 non-null  object\n",
      " 11  comments/subscriber            575610 non-null  object\n",
      " 12  likes/views                    575610 non-null  object\n",
      " 13  channelCommentCount            575610 non-null  object\n",
      " 14  videoViewCount                 575610 non-null  object\n",
      " 15  likes/dislikes                 575610 non-null  object\n",
      " 16  comments/views                 575610 non-null  object\n",
      " 17  totvideos/videocount           575610 non-null  object\n",
      " 18  elapsedtime                    575610 non-null  object\n",
      " 19  videoLikeCount                 575610 non-null  object\n",
      " 20  videoDislikeCount              575610 non-null  object\n",
      " 21  dislikes/subscriber            575610 non-null  object\n",
      " 22  totviews/totsubs               575610 non-null  object\n",
      " 23  views/elapsedtime              575610 non-null  object\n",
      " 24  videoPublished                 575610 non-null  object\n",
      " 25  VideoCommentCount              575610 non-null  object\n",
      "dtypes: object(26)\n",
      "memory usage: 114.2+ MB\n"
     ]
    }
   ],
   "source": [
    "df.info()"
   ]
  },
  {
   "cell_type": "code",
   "execution_count": 8,
   "id": "dfad5418",
   "metadata": {},
   "outputs": [],
   "source": [
    "df = df.drop(columns=['totalviews/channelelapsedtime', 'channelId', 'likes/subscriber', \n",
    "                      'views/subscribers', 'dislikes/views', 'videoId',\n",
    "                      'comments/subscriber', 'likes/views', 'likes/dislikes',\n",
    "                      'comments/views', 'totvideos/videocount', 'dislikes/subscriber',\n",
    "                      'totviews/totsubs', 'views/elapsedtime'])"
   ]
  },
  {
   "cell_type": "code",
   "execution_count": 9,
   "id": "3d951fc6",
   "metadata": {},
   "outputs": [],
   "source": [
    "numeric = df.columns.drop(['videoCategoryId', 'videoPublished'])\n",
    "\n",
    "df[numeric] = df[numeric].apply(pd.to_numeric, errors='coerce')"
   ]
  },
  {
   "cell_type": "code",
   "execution_count": 10,
   "id": "5eb480a4",
   "metadata": {},
   "outputs": [
    {
     "name": "stdout",
     "output_type": "stream",
     "text": [
      "<class 'pandas.core.frame.DataFrame'>\n",
      "RangeIndex: 575610 entries, 0 to 575609\n",
      "Data columns (total 12 columns):\n",
      " #   Column               Non-Null Count   Dtype \n",
      "---  ------               --------------   ----- \n",
      " 0   videoCategoryId      575610 non-null  object\n",
      " 1   channelViewCount     575610 non-null  int64 \n",
      " 2   videoCount           575610 non-null  int64 \n",
      " 3   subscriberCount      575610 non-null  int64 \n",
      " 4   channelelapsedtime   575610 non-null  int64 \n",
      " 5   channelCommentCount  575610 non-null  int64 \n",
      " 6   videoViewCount       575610 non-null  int64 \n",
      " 7   elapsedtime          575610 non-null  int64 \n",
      " 8   videoLikeCount       575610 non-null  int64 \n",
      " 9   videoDislikeCount    575610 non-null  int64 \n",
      " 10  videoPublished       575610 non-null  object\n",
      " 11  VideoCommentCount    575610 non-null  int64 \n",
      "dtypes: int64(10), object(2)\n",
      "memory usage: 52.7+ MB\n"
     ]
    }
   ],
   "source": [
    "df.info()"
   ]
  },
  {
   "cell_type": "code",
   "execution_count": 11,
   "id": "4075bc03",
   "metadata": {},
   "outputs": [],
   "source": [
    "df['videoPublished'] = pd.to_datetime(df['videoPublished'])\n",
    "df['Year'] = df.videoPublished.dt.year\n",
    "#df['Month'] = df.videoPublished.dt.month\n",
    "df['Weekday'] = df.videoPublished.dt.weekday\n",
    "df['Day'] = df.videoPublished.dt.day\n",
    "df['Hour'] = df.videoPublished.dt.hour"
   ]
  },
  {
   "cell_type": "code",
   "execution_count": 12,
   "id": "d7ed6bea",
   "metadata": {},
   "outputs": [
    {
     "data": {
      "text/plain": [
       "(Timestamp('2005-08-06 23:14:29+0000', tz='UTC'),\n",
       " Timestamp('2015-10-05 17:54:24+0000', tz='UTC'))"
      ]
     },
     "execution_count": 12,
     "metadata": {},
     "output_type": "execute_result"
    }
   ],
   "source": [
    "df.videoPublished.min(), df.videoPublished.max()"
   ]
  },
  {
   "cell_type": "code",
   "execution_count": 13,
   "id": "d5810c38",
   "metadata": {},
   "outputs": [
    {
     "data": {
      "text/plain": [
       "(219636, 16)"
      ]
     },
     "execution_count": 13,
     "metadata": {},
     "output_type": "execute_result"
    }
   ],
   "source": [
    "df = df[df.Year >= 2013]\n",
    "\n",
    "df.shape"
   ]
  },
  {
   "cell_type": "code",
   "execution_count": 14,
   "id": "18ab1088",
   "metadata": {},
   "outputs": [],
   "source": [
    "df = df.drop(columns=['videoPublished'])"
   ]
  },
  {
   "cell_type": "code",
   "execution_count": 15,
   "id": "a5c281da",
   "metadata": {},
   "outputs": [
    {
     "data": {
      "text/plain": [
       "(219570, 15)"
      ]
     },
     "execution_count": 15,
     "metadata": {},
     "output_type": "execute_result"
    }
   ],
   "source": [
    "df = df[df.videoViewCount >= 0]\n",
    "\n",
    "df.shape"
   ]
  },
  {
   "cell_type": "code",
   "execution_count": 16,
   "id": "1631c903",
   "metadata": {},
   "outputs": [],
   "source": [
    "df_num = ['channelViewCount', 'videoCount', 'channelelapsedtime', 'videoLikeCount',\n",
    "          'videoDislikeCount', 'VideoCommentCount','channelCommentCount', \n",
    "          'videoViewCount', 'elapsedtime']"
   ]
  },
  {
   "cell_type": "code",
   "execution_count": 17,
   "id": "9dfdb2ff",
   "metadata": {},
   "outputs": [
    {
     "data": {
      "text/plain": [
       "(213963, 15)"
      ]
     },
     "execution_count": 17,
     "metadata": {},
     "output_type": "execute_result"
    }
   ],
   "source": [
    "#ask about this\n",
    "df = df[(np.abs(stats.zscore(df[df_num])) < 3).all(axis=1)]\n",
    "\n",
    "df.shape"
   ]
  },
  {
   "cell_type": "code",
   "execution_count": 18,
   "id": "29886009",
   "metadata": {},
   "outputs": [
    {
     "data": {
      "text/plain": [
       "30        3\n",
       "44      132\n",
       "43      400\n",
       "29     1440\n",
       "15     2528\n",
       "25     3801\n",
       "23     4013\n",
       "19     4379\n",
       "27     6221\n",
       "1      8234\n",
       "28     8969\n",
       "2     11107\n",
       "26    14976\n",
       "17    18678\n",
       "24    23826\n",
       "10    31778\n",
       "20    33612\n",
       "22    39866\n",
       "Name: videoCategoryId, dtype: int64"
      ]
     },
     "execution_count": 18,
     "metadata": {},
     "output_type": "execute_result"
    }
   ],
   "source": [
    "df.videoCategoryId.value_counts().sort_values(ascending=True)"
   ]
  },
  {
   "cell_type": "code",
   "execution_count": 19,
   "id": "d21cf140",
   "metadata": {},
   "outputs": [],
   "source": [
    "df.reset_index(drop=True, inplace=True)"
   ]
  },
  {
   "cell_type": "code",
   "execution_count": 20,
   "id": "2c38569c",
   "metadata": {},
   "outputs": [
    {
     "data": {
      "text/html": [
       "<div>\n",
       "<style scoped>\n",
       "    .dataframe tbody tr th:only-of-type {\n",
       "        vertical-align: middle;\n",
       "    }\n",
       "\n",
       "    .dataframe tbody tr th {\n",
       "        vertical-align: top;\n",
       "    }\n",
       "\n",
       "    .dataframe thead th {\n",
       "        text-align: right;\n",
       "    }\n",
       "</style>\n",
       "<table border=\"1\" class=\"dataframe\">\n",
       "  <thead>\n",
       "    <tr style=\"text-align: right;\">\n",
       "      <th></th>\n",
       "      <th>videoCategoryId</th>\n",
       "      <th>channelViewCount</th>\n",
       "      <th>videoCount</th>\n",
       "      <th>subscriberCount</th>\n",
       "      <th>channelelapsedtime</th>\n",
       "      <th>channelCommentCount</th>\n",
       "      <th>videoViewCount</th>\n",
       "      <th>elapsedtime</th>\n",
       "      <th>videoLikeCount</th>\n",
       "      <th>videoDislikeCount</th>\n",
       "      <th>VideoCommentCount</th>\n",
       "      <th>Year</th>\n",
       "      <th>Weekday</th>\n",
       "      <th>Day</th>\n",
       "      <th>Hour</th>\n",
       "    </tr>\n",
       "  </thead>\n",
       "  <tbody>\n",
       "    <tr>\n",
       "      <th>0</th>\n",
       "      <td>10</td>\n",
       "      <td>105909</td>\n",
       "      <td>51</td>\n",
       "      <td>184</td>\n",
       "      <td>93409</td>\n",
       "      <td>8</td>\n",
       "      <td>10916</td>\n",
       "      <td>22080</td>\n",
       "      <td>44</td>\n",
       "      <td>3</td>\n",
       "      <td>2</td>\n",
       "      <td>2015</td>\n",
       "      <td>0</td>\n",
       "      <td>30</td>\n",
       "      <td>4</td>\n",
       "    </tr>\n",
       "    <tr>\n",
       "      <th>1</th>\n",
       "      <td>20</td>\n",
       "      <td>1649075</td>\n",
       "      <td>2777</td>\n",
       "      <td>220</td>\n",
       "      <td>31248</td>\n",
       "      <td>0</td>\n",
       "      <td>2201</td>\n",
       "      <td>30120</td>\n",
       "      <td>1</td>\n",
       "      <td>0</td>\n",
       "      <td>0</td>\n",
       "      <td>2014</td>\n",
       "      <td>1</td>\n",
       "      <td>29</td>\n",
       "      <td>15</td>\n",
       "    </tr>\n",
       "    <tr>\n",
       "      <th>2</th>\n",
       "      <td>20</td>\n",
       "      <td>45363</td>\n",
       "      <td>2</td>\n",
       "      <td>90</td>\n",
       "      <td>49584</td>\n",
       "      <td>0</td>\n",
       "      <td>45203</td>\n",
       "      <td>38064</td>\n",
       "      <td>65</td>\n",
       "      <td>36</td>\n",
       "      <td>6</td>\n",
       "      <td>2013</td>\n",
       "      <td>5</td>\n",
       "      <td>1</td>\n",
       "      <td>18</td>\n",
       "    </tr>\n",
       "    <tr>\n",
       "      <th>3</th>\n",
       "      <td>20</td>\n",
       "      <td>69412632</td>\n",
       "      <td>4213</td>\n",
       "      <td>327143</td>\n",
       "      <td>47376</td>\n",
       "      <td>46</td>\n",
       "      <td>1577</td>\n",
       "      <td>35568</td>\n",
       "      <td>105</td>\n",
       "      <td>2</td>\n",
       "      <td>158</td>\n",
       "      <td>2013</td>\n",
       "      <td>5</td>\n",
       "      <td>14</td>\n",
       "      <td>15</td>\n",
       "    </tr>\n",
       "    <tr>\n",
       "      <th>4</th>\n",
       "      <td>26</td>\n",
       "      <td>625569</td>\n",
       "      <td>310</td>\n",
       "      <td>7710</td>\n",
       "      <td>37872</td>\n",
       "      <td>5</td>\n",
       "      <td>85817</td>\n",
       "      <td>37464</td>\n",
       "      <td>463</td>\n",
       "      <td>287</td>\n",
       "      <td>112</td>\n",
       "      <td>2013</td>\n",
       "      <td>3</td>\n",
       "      <td>27</td>\n",
       "      <td>3</td>\n",
       "    </tr>\n",
       "  </tbody>\n",
       "</table>\n",
       "</div>"
      ],
      "text/plain": [
       "  videoCategoryId  channelViewCount  videoCount  subscriberCount  \\\n",
       "0              10            105909          51              184   \n",
       "1              20           1649075        2777              220   \n",
       "2              20             45363           2               90   \n",
       "3              20          69412632        4213           327143   \n",
       "4              26            625569         310             7710   \n",
       "\n",
       "   channelelapsedtime  channelCommentCount  videoViewCount  elapsedtime  \\\n",
       "0               93409                    8           10916        22080   \n",
       "1               31248                    0            2201        30120   \n",
       "2               49584                    0           45203        38064   \n",
       "3               47376                   46            1577        35568   \n",
       "4               37872                    5           85817        37464   \n",
       "\n",
       "   videoLikeCount  videoDislikeCount  VideoCommentCount  Year  Weekday  Day  \\\n",
       "0              44                  3                  2  2015        0   30   \n",
       "1               1                  0                  0  2014        1   29   \n",
       "2              65                 36                  6  2013        5    1   \n",
       "3             105                  2                158  2013        5   14   \n",
       "4             463                287                112  2013        3   27   \n",
       "\n",
       "   Hour  \n",
       "0     4  \n",
       "1    15  \n",
       "2    18  \n",
       "3    15  \n",
       "4     3  "
      ]
     },
     "execution_count": 20,
     "metadata": {},
     "output_type": "execute_result"
    }
   ],
   "source": [
    "df.head()"
   ]
  },
  {
   "cell_type": "code",
   "execution_count": 21,
   "id": "180d4030",
   "metadata": {
    "scrolled": false
   },
   "outputs": [
    {
     "data": {
      "text/plain": [
       "videoCategoryId        0\n",
       "channelViewCount       0\n",
       "videoCount             0\n",
       "subscriberCount        0\n",
       "channelelapsedtime     0\n",
       "channelCommentCount    0\n",
       "videoViewCount         0\n",
       "elapsedtime            0\n",
       "videoLikeCount         0\n",
       "videoDislikeCount      0\n",
       "VideoCommentCount      0\n",
       "Year                   0\n",
       "Weekday                0\n",
       "Day                    0\n",
       "Hour                   0\n",
       "dtype: int64"
      ]
     },
     "execution_count": 21,
     "metadata": {},
     "output_type": "execute_result"
    }
   ],
   "source": [
    "df.isnull().sum()"
   ]
  },
  {
   "cell_type": "markdown",
   "id": "fe7a1f8d",
   "metadata": {},
   "source": [
    "# Exploratory Data Analysis"
   ]
  },
  {
   "cell_type": "code",
   "execution_count": 22,
   "id": "4b5a3394",
   "metadata": {},
   "outputs": [
    {
     "data": {
      "image/png": "[encoded data removed]",
      "text/plain": [
       "<Figure size 1080x720 with 16 Axes>"
      ]
     },
     "metadata": {},
     "output_type": "display_data"
    }
   ],
   "source": [
    "sns.set_theme(style = \"whitegrid\")\n",
    "\n",
    "df.hist(figsize=(15,10))\n",
    "plt.subplots_adjust(hspace=0.5);"
   ]
  },
  {
   "cell_type": "code",
   "execution_count": 23,
   "id": "8a628fdf",
   "metadata": {},
   "outputs": [
    {
     "data": {
      "image/png": "[encoded data removed]",
      "text/plain": [
       "<Figure size 432x288 with 1 Axes>"
      ]
     },
     "metadata": {},
     "output_type": "display_data"
    }
   ],
   "source": [
    "ax = sns.barplot(x=\"Hour\", y=\"videoViewCount\", data=df)"
   ]
  },
  {
   "cell_type": "code",
   "execution_count": 24,
   "id": "d8971d20",
   "metadata": {},
   "outputs": [
    {
     "data": {
      "image/png": "[encoded data removed]",
      "text/plain": [
       "<Figure size 432x288 with 1 Axes>"
      ]
     },
     "metadata": {},
     "output_type": "display_data"
    }
   ],
   "source": [
    "ax = sns.barplot(x=\"Weekday\", y=\"videoViewCount\", data=df)"
   ]
  },
  {
   "cell_type": "code",
   "execution_count": 25,
   "id": "35915e0a",
   "metadata": {},
   "outputs": [
    {
     "data": {
      "image/png": "[encoded data removed]",
      "text/plain": [
       "<Figure size 432x288 with 1 Axes>"
      ]
     },
     "metadata": {},
     "output_type": "display_data"
    }
   ],
   "source": [
    "ax = sns.barplot(x=\"videoCategoryId\", y=\"videoViewCount\", data=df)"
   ]
  }
 ],
 "metadata": {
  "kernelspec": {
   "display_name": "Python 3",
   "language": "python",
   "name": "python3"
  },
  "language_info": {
   "codemirror_mode": {
    "name": "ipython",
    "version": 3
   },
   "file_extension": ".py",
   "mimetype": "text/x-python",
   "name": "python",
   "nbconvert_exporter": "python",
   "pygments_lexer": "ipython3",
   "version": "3.8.8"
  }
 },
 "nbformat": 4,
 "nbformat_minor": 5
}
